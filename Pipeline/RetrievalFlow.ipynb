{
 "cells": [
  {
   "cell_type": "code",
   "execution_count": 2,
   "id": "aacc7e5b",
   "metadata": {},
   "outputs": [],
   "source": [
    "import pandas as pd\n",
    "import numpy as np\n",
    "import json"
   ]
  },
  {
   "cell_type": "code",
   "execution_count": 4,
   "id": "37f137ca",
   "metadata": {},
   "outputs": [],
   "source": [
    "def find_metrics(dataframe):\n",
    "    avg_precision = []\n",
    "    avg_recall = []\n",
    "    for i in dataframe.index:\n",
    "        retrieved = set([(t[0],t[1]) for t in dataframe.loc[i][\"corpus\"]])\n",
    "        relevant = set([(t[0],t[1]) for t in dataframe.loc[i][\"supports\"]])\n",
    "        matched = len(retrieved.intersection(relevant))\n",
    "        \n",
    "        precision = matched/len(retrieved)\n",
    "        recall = matched/len(relevant)\n",
    "        avg_precision.append(precision)\n",
    "        avg_recall.append(recall)\n",
    "    avg_precision = sum(avg_precision)/len(avg_precision)\n",
    "    avg_recall = sum(avg_recall)/len(avg_recall)\n",
    "    print(\"Average Precision: \",avg_precision)\n",
    "    print(\"Average Recall: \",avg_recall)"
   ]
  },
  {
   "cell_type": "markdown",
   "id": "d3557771",
   "metadata": {},
   "source": [
    "# Using TAGME KG + KGP w/o LLM Retriever"
   ]
  },
  {
   "cell_type": "code",
   "execution_count": 37,
   "id": "91103050",
   "metadata": {},
   "outputs": [
    {
     "name": "stdout",
     "output_type": "stream",
     "text": [
      "Average Precision:  0.18770833333333325\n",
      "Average Recall:  0.49375\n"
     ]
    }
   ],
   "source": [
    "with open('./result/Devrev/KGP wo LLM_KG_TAGME_0.8_5.json','r') as f:\n",
    "    data = json.load(f)\n",
    "df = pd.DataFrame(data)\n",
    "find_metrics(df)    "
   ]
  },
  {
   "cell_type": "code",
   "execution_count": 38,
   "id": "526d4386",
   "metadata": {},
   "outputs": [
    {
     "data": {
      "text/html": [
       "<div>\n",
       "<style scoped>\n",
       "    .dataframe tbody tr th:only-of-type {\n",
       "        vertical-align: middle;\n",
       "    }\n",
       "\n",
       "    .dataframe tbody tr th {\n",
       "        vertical-align: top;\n",
       "    }\n",
       "\n",
       "    .dataframe thead th {\n",
       "        text-align: right;\n",
       "    }\n",
       "</style>\n",
       "<table border=\"1\" class=\"dataframe\">\n",
       "  <thead>\n",
       "    <tr style=\"text-align: right;\">\n",
       "      <th></th>\n",
       "      <th>idx</th>\n",
       "      <th>question</th>\n",
       "      <th>answer</th>\n",
       "      <th>prediction</th>\n",
       "      <th>grade</th>\n",
       "      <th>c_tokens</th>\n",
       "      <th>p_tokens</th>\n",
       "      <th>corpus</th>\n",
       "      <th>supports</th>\n",
       "      <th>t_seed</th>\n",
       "      <th>t_reason</th>\n",
       "      <th>t_nei</th>\n",
       "    </tr>\n",
       "  </thead>\n",
       "  <tbody>\n",
       "    <tr>\n",
       "      <th>62</th>\n",
       "      <td>62</td>\n",
       "      <td>What is the purpose of a snap-in package?</td>\n",
       "      <td>The purpose of a snap-in package is to define ...</td>\n",
       "      <td>System mistake</td>\n",
       "      <td>None</td>\n",
       "      <td>None</td>\n",
       "      <td>None</td>\n",
       "      <td>[[DevRev CLI reference – DevRev, The browser o...</td>\n",
       "      <td>[[Concepts, \\nSnap-in platform\\nA snap-in plat...</td>\n",
       "      <td>None</td>\n",
       "      <td>None</td>\n",
       "      <td>None</td>\n",
       "    </tr>\n",
       "    <tr>\n",
       "      <th>77</th>\n",
       "      <td>77</td>\n",
       "      <td>What inputs can developers define to enable or...</td>\n",
       "      <td>Developers can define inputs to enable or disa...</td>\n",
       "      <td>System mistake</td>\n",
       "      <td>None</td>\n",
       "      <td>None</td>\n",
       "      <td>None</td>\n",
       "      <td>[[How to Think About (And Structure) Your Prod...</td>\n",
       "      <td>[[Snap-in manifest, \\nThe following section is...</td>\n",
       "      <td>None</td>\n",
       "      <td>None</td>\n",
       "      <td>None</td>\n",
       "    </tr>\n",
       "  </tbody>\n",
       "</table>\n",
       "</div>"
      ],
      "text/plain": [
       "    idx                                           question  \\\n",
       "62   62          What is the purpose of a snap-in package?   \n",
       "77   77  What inputs can developers define to enable or...   \n",
       "\n",
       "                                               answer      prediction grade  \\\n",
       "62  The purpose of a snap-in package is to define ...  System mistake  None   \n",
       "77  Developers can define inputs to enable or disa...  System mistake  None   \n",
       "\n",
       "   c_tokens p_tokens                                             corpus  \\\n",
       "62     None     None  [[DevRev CLI reference – DevRev, The browser o...   \n",
       "77     None     None  [[How to Think About (And Structure) Your Prod...   \n",
       "\n",
       "                                             supports t_seed t_reason t_nei  \n",
       "62  [[Concepts, \\nSnap-in platform\\nA snap-in plat...   None     None  None  \n",
       "77  [[Snap-in manifest, \\nThe following section is...   None     None  None  "
      ]
     },
     "execution_count": 38,
     "metadata": {},
     "output_type": "execute_result"
    }
   ],
   "source": [
    "df.sample(2)"
   ]
  },
  {
   "cell_type": "markdown",
   "id": "5c542c99",
   "metadata": {},
   "source": [
    "## Extracting idx which has supports more than one chunk"
   ]
  },
  {
   "cell_type": "code",
   "execution_count": 27,
   "id": "6bf26524",
   "metadata": {},
   "outputs": [],
   "source": [
    "# df['supports'][105]"
   ]
  },
  {
   "cell_type": "code",
   "execution_count": 39,
   "id": "a07dfc81",
   "metadata": {},
   "outputs": [],
   "source": [
    "multi_supp_idx = []\n",
    "for idx,item in zip(df['idx'],df['supports']):\n",
    "    if len(item)>1:\n",
    "        multi_supp_idx.append(idx)"
   ]
  },
  {
   "cell_type": "code",
   "execution_count": 40,
   "id": "43dd8234",
   "metadata": {},
   "outputs": [
    {
     "data": {
      "text/plain": [
       "[84, 85]"
      ]
     },
     "execution_count": 40,
     "metadata": {},
     "output_type": "execute_result"
    }
   ],
   "source": [
    "multi_supp_idx"
   ]
  },
  {
   "cell_type": "markdown",
   "id": "1d86cc95",
   "metadata": {},
   "source": [
    "# Relevant Chunks - id:84"
   ]
  },
  {
   "cell_type": "code",
   "execution_count": 63,
   "id": "61467a17",
   "metadata": {},
   "outputs": [
    {
     "name": "stdout",
     "output_type": "stream",
     "text": [
      "question:  can we configure the frequency of sync during periodic syncs in imports?\n",
      "answer:  Yes, you can configure the frequency of sync during periodic syncs in imports. The default period is 1 hour, but you have the option to customize it according to your requirements. To enable periodic sync and configure the frequency, go to Settings > Imports > Past Imports, find the previously imported project, and select the ⇆ > Start periodic sync option.\n"
     ]
    }
   ],
   "source": [
    "print(\"question: \", df['question'][84])\n",
    "print(\"answer: \", df['answer'][84])"
   ]
  },
  {
   "cell_type": "code",
   "execution_count": 65,
   "id": "3d081950",
   "metadata": {},
   "outputs": [
    {
     "name": "stdout",
     "output_type": "stream",
     "text": [
      "Support-1:\n",
      "Title:  Jira import\n",
      "Relevant Chunk:  Migrate from Jira to DevR ...\n",
      "--------------------------------------------------\n",
      "Support-2:\n",
      "Title:  Jira import\n",
      "Relevant Chunk:  What Jira types to import ...\n",
      "--------------------------------------------------\n",
      "Support-3:\n",
      "Title:  Jira import\n",
      "Relevant Chunk:  How to map Jira fields to ...\n",
      "--------------------------------------------------\n",
      "Support-4:\n",
      "Title:  Jira import\n",
      "Relevant Chunk:  \n",
      "Historical imports\n",
      "You c ...\n",
      "--------------------------------------------------\n"
     ]
    }
   ],
   "source": [
    "count = 1\n",
    "for i in df['supports'][84]:\n",
    "    print(f\"Support-{count}:\")\n",
    "    print(\"Title: \",i[0])\n",
    "    print(\"Relevant Chunk: \",i[1][:25],'...')\n",
    "    print('-'*50)\n",
    "    count+=1"
   ]
  },
  {
   "cell_type": "markdown",
   "id": "f09f5001",
   "metadata": {},
   "source": [
    "# Retrieved Chunks - id:84"
   ]
  },
  {
   "cell_type": "code",
   "execution_count": 68,
   "id": "19b4d341",
   "metadata": {},
   "outputs": [
    {
     "name": "stdout",
     "output_type": "stream",
     "text": [
      "Title:  Jira import\n",
      "Relevant Chunk:  \n",
      "Historical imports\n",
      "You c ...\n",
      "Retrieved level: 0\n",
      "--------------------------------------------------\n",
      "Title:  Rocketlane Airdrop\n",
      "Relevant Chunk:  Product Platform Solution ...\n",
      "Retrieved level: 0\n",
      "--------------------------------------------------\n",
      "Title:  Jira import\n",
      "Relevant Chunk:  Migrate from Jira to DevR ...\n",
      "Retrieved level: 1\n",
      "--------------------------------------------------\n",
      "Title:  Jira import\n",
      "Relevant Chunk:  What Jira types to import ...\n",
      "Retrieved level: 1\n",
      "--------------------------------------------------\n",
      "Title:  Jira import\n",
      "Relevant Chunk:  How to map Jira fields to ...\n",
      "Retrieved level: 1\n",
      "--------------------------------------------------\n"
     ]
    }
   ],
   "source": [
    "for i in df['corpus'][84]:\n",
    "    print(\"Title: \",i[0])\n",
    "    print(\"Relevant Chunk: \",i[1][:25],'...')\n",
    "    print(f\"Retrieved level: {i[2]}\")\n",
    "    print('-'*50)"
   ]
  },
  {
   "cell_type": "markdown",
   "id": "b2ac0e4a",
   "metadata": {},
   "source": [
    "# Relevant Chunks - id:85"
   ]
  },
  {
   "cell_type": "code",
   "execution_count": 66,
   "id": "28204f31",
   "metadata": {},
   "outputs": [
    {
     "name": "stdout",
     "output_type": "stream",
     "text": [
      "question:  what is the subtype format To mark an item for sync when creating with the API.\n",
      "answer:  To mark an item for sync when creating with the API, the subtype format should be used. The subtype format is as follows: [Jira project name]/issues/[work item type].\n",
      "\n",
      "For example, if you want to sync a Bug work item to a Jira project called Maple, the subtype format would be Maple/issues/Bug.\n"
     ]
    }
   ],
   "source": [
    "print(\"question: \", df['question'][85])\n",
    "print(\"answer: \", df['answer'][85])"
   ]
  },
  {
   "cell_type": "code",
   "execution_count": 67,
   "id": "da0e161c",
   "metadata": {},
   "outputs": [
    {
     "name": "stdout",
     "output_type": "stream",
     "text": [
      "Support-1:\n",
      "Title:  Jira import\n",
      "Relevant Chunk:  Migrate from Jira to DevR ...\n",
      "--------------------------------------------------\n",
      "Support-2:\n",
      "Title:  Jira import\n",
      "Relevant Chunk:  What Jira types to import ...\n",
      "--------------------------------------------------\n",
      "Support-3:\n",
      "Title:  Jira import\n",
      "Relevant Chunk:  How to map Jira fields to ...\n",
      "--------------------------------------------------\n",
      "Support-4:\n",
      "Title:  Jira import\n",
      "Relevant Chunk:  \n",
      "Historical imports\n",
      "You c ...\n",
      "--------------------------------------------------\n"
     ]
    }
   ],
   "source": [
    "count = 1\n",
    "for i in df['supports'][85]:\n",
    "    print(f\"Support-{count}:\")\n",
    "    print(\"Title: \",i[0])\n",
    "    print(\"Relevant Chunk: \",i[1][:25],'...')\n",
    "    print('-'*50)\n",
    "    count+=1"
   ]
  },
  {
   "cell_type": "markdown",
   "id": "2f78eaf0",
   "metadata": {},
   "source": [
    "# Retrieved Chunks - id:85"
   ]
  },
  {
   "cell_type": "code",
   "execution_count": 69,
   "id": "54096074",
   "metadata": {},
   "outputs": [
    {
     "name": "stdout",
     "output_type": "stream",
     "text": [
      "Title:  Jira import\n",
      "Relevant Chunk:  \n",
      "Historical imports\n",
      "You c ...\n",
      "Retrieved level: 0\n",
      "--------------------------------------------------\n",
      "Title:  Rocketlane Airdrop\n",
      "Relevant Chunk:  Product Platform Solution ...\n",
      "Retrieved level: 0\n",
      "--------------------------------------------------\n",
      "Title:  Jira import\n",
      "Relevant Chunk:  Migrate from Jira to DevR ...\n",
      "Retrieved level: 1\n",
      "--------------------------------------------------\n",
      "Title:  Jira import\n",
      "Relevant Chunk:  What Jira types to import ...\n",
      "Retrieved level: 1\n",
      "--------------------------------------------------\n",
      "Title:  Jira import\n",
      "Relevant Chunk:  How to map Jira fields to ...\n",
      "Retrieved level: 1\n",
      "--------------------------------------------------\n"
     ]
    }
   ],
   "source": [
    "for i in df['corpus'][84]:\n",
    "    print(\"Title: \",i[0])\n",
    "    print(\"Relevant Chunk: \",i[1][:25],'...')\n",
    "    print(f\"Retrieved level: {i[2]}\")\n",
    "    print('-'*50)"
   ]
  }
 ],
 "metadata": {
  "kernelspec": {
   "display_name": "Python 3 (ipykernel)",
   "language": "python",
   "name": "python3"
  },
  "language_info": {
   "codemirror_mode": {
    "name": "ipython",
    "version": 3
   },
   "file_extension": ".py",
   "mimetype": "text/x-python",
   "name": "python",
   "nbconvert_exporter": "python",
   "pygments_lexer": "ipython3",
   "version": "3.9.13"
  }
 },
 "nbformat": 4,
 "nbformat_minor": 5
}
