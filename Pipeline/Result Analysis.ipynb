{
 "cells": [
  {
   "cell_type": "code",
   "execution_count": 11,
   "id": "d05661de",
   "metadata": {},
   "outputs": [],
   "source": [
    "import json\n",
    "import pandas as pd"
   ]
  },
  {
   "cell_type": "code",
   "execution_count": 12,
   "id": "e4e79414",
   "metadata": {},
   "outputs": [],
   "source": [
    "with open('./result/Devrev/KGP wo LLM_TF-IDF_30.json','r') as f:\n",
    "    data = json.load(f)"
   ]
  },
  {
   "cell_type": "code",
   "execution_count": 13,
   "id": "ca40203e",
   "metadata": {},
   "outputs": [],
   "source": [
    "df = pd.DataFrame(data)"
   ]
  },
  {
   "cell_type": "code",
   "execution_count": 14,
   "id": "9e49e2c6",
   "metadata": {},
   "outputs": [],
   "source": [
    "with open('./dataset/Devrev/test_docs.json') as f:\n",
    "    docs = json.load(f)"
   ]
  },
  {
   "cell_type": "code",
   "execution_count": 15,
   "id": "93d4be3b",
   "metadata": {},
   "outputs": [
    {
     "data": {
      "text/plain": [
       "160"
      ]
     },
     "execution_count": 15,
     "metadata": {},
     "output_type": "execute_result"
    }
   ],
   "source": [
    "len(docs)"
   ]
  },
  {
   "cell_type": "code",
   "execution_count": 16,
   "id": "6279e478",
   "metadata": {},
   "outputs": [
    {
     "data": {
      "text/plain": [
       "160"
      ]
     },
     "execution_count": 16,
     "metadata": {},
     "output_type": "execute_result"
    }
   ],
   "source": [
    "len(data)"
   ]
  },
  {
   "cell_type": "code",
   "execution_count": 17,
   "id": "b3adba11",
   "metadata": {},
   "outputs": [],
   "source": [
    "# docs[0]"
   ]
  },
  {
   "cell_type": "code",
   "execution_count": 18,
   "id": "b9445dbf",
   "metadata": {},
   "outputs": [
    {
     "data": {
      "text/plain": [
       "dict_keys(['idx', 'question', 'answer', 'prediction', 'grade', 'c_tokens', 'p_tokens', 'corpus', 'supports', 't_seed', 't_reason', 't_nei'])"
      ]
     },
     "execution_count": 18,
     "metadata": {},
     "output_type": "execute_result"
    }
   ],
   "source": [
    "data[0].keys()"
   ]
  },
  {
   "cell_type": "code",
   "execution_count": 19,
   "id": "7ee4f00e",
   "metadata": {},
   "outputs": [
    {
     "data": {
      "text/html": [
       "<div>\n",
       "<style scoped>\n",
       "    .dataframe tbody tr th:only-of-type {\n",
       "        vertical-align: middle;\n",
       "    }\n",
       "\n",
       "    .dataframe tbody tr th {\n",
       "        vertical-align: top;\n",
       "    }\n",
       "\n",
       "    .dataframe thead th {\n",
       "        text-align: right;\n",
       "    }\n",
       "</style>\n",
       "<table border=\"1\" class=\"dataframe\">\n",
       "  <thead>\n",
       "    <tr style=\"text-align: right;\">\n",
       "      <th></th>\n",
       "      <th>idx</th>\n",
       "      <th>question</th>\n",
       "      <th>answer</th>\n",
       "      <th>prediction</th>\n",
       "      <th>grade</th>\n",
       "      <th>c_tokens</th>\n",
       "      <th>p_tokens</th>\n",
       "      <th>corpus</th>\n",
       "      <th>supports</th>\n",
       "      <th>t_seed</th>\n",
       "      <th>t_reason</th>\n",
       "      <th>t_nei</th>\n",
       "    </tr>\n",
       "  </thead>\n",
       "  <tbody>\n",
       "    <tr>\n",
       "      <th>7</th>\n",
       "      <td>7</td>\n",
       "      <td>What does routing mean?</td>\n",
       "      <td>Routing refers to the process of determining t...</td>\n",
       "      <td>System mistake</td>\n",
       "      <td>None</td>\n",
       "      <td>None</td>\n",
       "      <td>None</td>\n",
       "      <td>[[Why Silos Must be Busted, \\nHow Does This Lo...</td>\n",
       "      <td>[[Routing, Product Platform Solutions Marketpl...</td>\n",
       "      <td>None</td>\n",
       "      <td>None</td>\n",
       "      <td>None</td>\n",
       "    </tr>\n",
       "    <tr>\n",
       "      <th>32</th>\n",
       "      <td>32</td>\n",
       "      <td>What steps are involved in installing and depl...</td>\n",
       "      <td>To install and deploy the Sentiment evaluator ...</td>\n",
       "      <td>System mistake</td>\n",
       "      <td>None</td>\n",
       "      <td>None</td>\n",
       "      <td>None</td>\n",
       "      <td>[[Getting started – DevRev | Docs (0), Snap-in...</td>\n",
       "      <td>[[Sentiment evaluator, Product Platform Soluti...</td>\n",
       "      <td>None</td>\n",
       "      <td>None</td>\n",
       "      <td>None</td>\n",
       "    </tr>\n",
       "    <tr>\n",
       "      <th>3</th>\n",
       "      <td>3</td>\n",
       "      <td>What does draft status of article mean?</td>\n",
       "      <td>The draft status of an article means that it i...</td>\n",
       "      <td>System mistake</td>\n",
       "      <td>None</td>\n",
       "      <td>None</td>\n",
       "      <td>None</td>\n",
       "      <td>[[Delete Article – DevRev | Docs, Deletes an a...</td>\n",
       "      <td>[[Articles, Product Platform Solutions Marketp...</td>\n",
       "      <td>None</td>\n",
       "      <td>None</td>\n",
       "      <td>None</td>\n",
       "    </tr>\n",
       "    <tr>\n",
       "      <th>121</th>\n",
       "      <td>121</td>\n",
       "      <td>How is the default owner of a new conversation...</td>\n",
       "      <td>The default owner of a new conversation in Dev...</td>\n",
       "      <td>System mistake</td>\n",
       "      <td>None</td>\n",
       "      <td>None</td>\n",
       "      <td>None</td>\n",
       "      <td>[[Article created from 13 QnAs, Example: \\nawa...</td>\n",
       "      <td>[[Auto routing, Product Platform Solutions Mar...</td>\n",
       "      <td>None</td>\n",
       "      <td>None</td>\n",
       "      <td>None</td>\n",
       "    </tr>\n",
       "    <tr>\n",
       "      <th>69</th>\n",
       "      <td>69</td>\n",
       "      <td>How can a snap-in transition between different...</td>\n",
       "      <td>A snap-in can transition between different sta...</td>\n",
       "      <td>System mistake</td>\n",
       "      <td>None</td>\n",
       "      <td>None</td>\n",
       "      <td>None</td>\n",
       "      <td>[[Concepts – DevRev | Docs (0), Snap-in platfo...</td>\n",
       "      <td>[[Concepts, \\nSnap-in platform\\nA snap-in plat...</td>\n",
       "      <td>None</td>\n",
       "      <td>None</td>\n",
       "      <td>None</td>\n",
       "    </tr>\n",
       "  </tbody>\n",
       "</table>\n",
       "</div>"
      ],
      "text/plain": [
       "     idx                                           question  \\\n",
       "7      7                            What does routing mean?   \n",
       "32    32  What steps are involved in installing and depl...   \n",
       "3      3            What does draft status of article mean?   \n",
       "121  121  How is the default owner of a new conversation...   \n",
       "69    69  How can a snap-in transition between different...   \n",
       "\n",
       "                                                answer      prediction grade  \\\n",
       "7    Routing refers to the process of determining t...  System mistake  None   \n",
       "32   To install and deploy the Sentiment evaluator ...  System mistake  None   \n",
       "3    The draft status of an article means that it i...  System mistake  None   \n",
       "121  The default owner of a new conversation in Dev...  System mistake  None   \n",
       "69   A snap-in can transition between different sta...  System mistake  None   \n",
       "\n",
       "    c_tokens p_tokens                                             corpus  \\\n",
       "7       None     None  [[Why Silos Must be Busted, \\nHow Does This Lo...   \n",
       "32      None     None  [[Getting started – DevRev | Docs (0), Snap-in...   \n",
       "3       None     None  [[Delete Article – DevRev | Docs, Deletes an a...   \n",
       "121     None     None  [[Article created from 13 QnAs, Example: \\nawa...   \n",
       "69      None     None  [[Concepts – DevRev | Docs (0), Snap-in platfo...   \n",
       "\n",
       "                                              supports t_seed t_reason t_nei  \n",
       "7    [[Routing, Product Platform Solutions Marketpl...   None     None  None  \n",
       "32   [[Sentiment evaluator, Product Platform Soluti...   None     None  None  \n",
       "3    [[Articles, Product Platform Solutions Marketp...   None     None  None  \n",
       "121  [[Auto routing, Product Platform Solutions Mar...   None     None  None  \n",
       "69   [[Concepts, \\nSnap-in platform\\nA snap-in plat...   None     None  None  "
      ]
     },
     "execution_count": 19,
     "metadata": {},
     "output_type": "execute_result"
    }
   ],
   "source": [
    "df.sample(5)"
   ]
  },
  {
   "cell_type": "code",
   "execution_count": 20,
   "id": "de9863d3",
   "metadata": {},
   "outputs": [
    {
     "data": {
      "text/html": [
       "<div>\n",
       "<style scoped>\n",
       "    .dataframe tbody tr th:only-of-type {\n",
       "        vertical-align: middle;\n",
       "    }\n",
       "\n",
       "    .dataframe tbody tr th {\n",
       "        vertical-align: top;\n",
       "    }\n",
       "\n",
       "    .dataframe thead th {\n",
       "        text-align: right;\n",
       "    }\n",
       "</style>\n",
       "<table border=\"1\" class=\"dataframe\">\n",
       "  <thead>\n",
       "    <tr style=\"text-align: right;\">\n",
       "      <th></th>\n",
       "      <th>question</th>\n",
       "      <th>answer</th>\n",
       "      <th>corpus</th>\n",
       "    </tr>\n",
       "  </thead>\n",
       "  <tbody>\n",
       "    <tr>\n",
       "      <th>122</th>\n",
       "      <td>What are the key stages involved in the calcul...</td>\n",
       "      <td>The key stages involved in the calculation of ...</td>\n",
       "      <td>[[Tickets dashboard, Product Platform Solution...</td>\n",
       "    </tr>\n",
       "    <tr>\n",
       "      <th>91</th>\n",
       "      <td>How does assignment complement routing, and wh...</td>\n",
       "      <td>Assignment complements routing by identifying ...</td>\n",
       "      <td>[[Routing, Product Platform Solutions Marketpl...</td>\n",
       "    </tr>\n",
       "  </tbody>\n",
       "</table>\n",
       "</div>"
      ],
      "text/plain": [
       "                                              question  \\\n",
       "122  What are the key stages involved in the calcul...   \n",
       "91   How does assignment complement routing, and wh...   \n",
       "\n",
       "                                                answer  \\\n",
       "122  The key stages involved in the calculation of ...   \n",
       "91   Assignment complements routing by identifying ...   \n",
       "\n",
       "                                                corpus  \n",
       "122  [[Tickets dashboard, Product Platform Solution...  \n",
       "91   [[Routing, Product Platform Solutions Marketpl...  "
      ]
     },
     "execution_count": 20,
     "metadata": {},
     "output_type": "execute_result"
    }
   ],
   "source": [
    "df[['question','answer','corpus']].sample(2)"
   ]
  },
  {
   "cell_type": "code",
   "execution_count": 21,
   "id": "0dc9a830",
   "metadata": {},
   "outputs": [
    {
     "data": {
      "text/plain": [
       "30"
      ]
     },
     "execution_count": 21,
     "metadata": {},
     "output_type": "execute_result"
    }
   ],
   "source": [
    "len(df[\"corpus\"][0])"
   ]
  },
  {
   "cell_type": "code",
   "execution_count": 22,
   "id": "1594a9f9",
   "metadata": {},
   "outputs": [
    {
     "data": {
      "text/plain": [
       "['How to Think About (And Structure) Your Products',\n",
       " '  What features bring in the most revenue?\\n  How much did a feature cost to develop?\\n  What capabilities have the highest defect rates?\\n  What features are getting more adoption?\\n  What was the ROI for a feature?\\n  …']"
      ]
     },
     "execution_count": 22,
     "metadata": {},
     "output_type": "execute_result"
    }
   ],
   "source": [
    "df['corpus'][0][2]"
   ]
  },
  {
   "cell_type": "code",
   "execution_count": 23,
   "id": "4384441b",
   "metadata": {},
   "outputs": [],
   "source": [
    "# df['supports'][35]"
   ]
  },
  {
   "cell_type": "code",
   "execution_count": 24,
   "id": "a16d4cdf",
   "metadata": {
    "scrolled": false
   },
   "outputs": [
    {
     "name": "stdout",
     "output_type": "stream",
     "text": [
      "Question: \n",
      "How can articles be found?\n",
      "----------------------------------------------------------------------------------------------------\n",
      "Answer: \n",
      "Articles can be found in the DevRev customer portal under the \"Knowledge Base\" section. Customers can search for articles using keywords or browse through different categories to find the information they are looking for.\n",
      "----------------------------------------------------------------------------------------------------\n",
      "Retrieved Corpus: \n",
      "Snap-in triggered by an external source – DevRev\n",
      "Snap-in triggered by a DevRev event – DevRev\n",
      "Busting silos, the WHY of DevRev\n",
      "Count – DevRev | Docs\n",
      "Count Post – DevRev | Docs\n",
      "Articles\n",
      "Upgrade snap-ins – DevRev | Docs\n",
      "Snap-ins upgrades\n",
      "Nudges | The Book of DevRev\n",
      "DevRev Nudges - Driving Customer Engagement\n",
      "Article created from 10 QnAs\n",
      "Understanding a Support Lead's Pain Points and KPIs\n",
      "Article created from 11 QnAs\n",
      "Snapkit – DevRev | Docs\n",
      "How to Think About (And Structure) Your Products\n",
      "Zendesk Airdrop\n",
      "Snapkit – DevRev | Docs\n",
      "Article created from 18 QnAs\n",
      "Snapkit – DevRev | Docs\n",
      "Keyrings – DevRev | Docs\n",
      "Getting started (0)\n",
      "Article created from 13 QnAs\n",
      "Snapkit – DevRev | Docs\n",
      "Why Poor Support May Be Costing You More Than You Think\n",
      "Apr 22 to May 22, 2023\n",
      "Snap-in manifest – DevRev | Docs\n",
      "Restricted messages on a timeline – DevRev\n",
      "Restricted messages on a timeline – DevRev\n",
      "Customers\n",
      "Inbox\n",
      "----------------------------------------------------------------------------------------------------\n",
      "Relevant Corpus: \n",
      "Articles\n"
     ]
    }
   ],
   "source": [
    "idx = 1\n",
    "print(\"Question: \")\n",
    "print(df['question'][idx])\n",
    "print('-'*100)\n",
    "print(\"Answer: \")\n",
    "print(df[\"answer\"][idx])\n",
    "print('-'*100)\n",
    "print(\"Retrieved Corpus: \")\n",
    "for i in df['corpus'][idx]:\n",
    "    print(i[0])\n",
    "# print(context)\n",
    "print('-'*100)\n",
    "print(\"Relevant Corpus: \")\n",
    "for i in df['supports'][idx]:\n",
    "    print(i[0])"
   ]
  },
  {
   "cell_type": "markdown",
   "id": "1c380141",
   "metadata": {},
   "source": [
    "# Precision, Recall"
   ]
  },
  {
   "cell_type": "code",
   "execution_count": 25,
   "id": "8066320e",
   "metadata": {},
   "outputs": [],
   "source": [
    "def find_metrics(dataframe):\n",
    "    avg_precision = []\n",
    "    avg_recall = []\n",
    "    for i in dataframe.index:\n",
    "        retrieved = set([(t[0],t[1]) for t in dataframe.loc[i][\"corpus\"]])\n",
    "        relevant = set([(t[0],t[1]) for t in dataframe.loc[i][\"supports\"]])\n",
    "        matched = len(retrieved.intersection(relevant))\n",
    "        \n",
    "        precision = matched/len(retrieved)\n",
    "        recall = matched/len(relevant)\n",
    "        avg_precision.append(precision)\n",
    "        avg_recall.append(recall)\n",
    "    avg_precision = sum(avg_precision)/len(avg_precision)\n",
    "    avg_recall = sum(avg_recall)/len(avg_recall)\n",
    "    print(\"Average Precision: \",avg_precision)\n",
    "    print(\"Average Recall: \",avg_recall)"
   ]
  },
  {
   "cell_type": "markdown",
   "id": "7a64cc51",
   "metadata": {},
   "source": [
    "# TF-IDF KG with n_gram(1,2)"
   ]
  },
  {
   "cell_type": "markdown",
   "id": "13ad79d7",
   "metadata": {},
   "source": [
    "## k=30"
   ]
  },
  {
   "cell_type": "code",
   "execution_count": 4,
   "id": "b58fb647",
   "metadata": {},
   "outputs": [],
   "source": [
    "with open('./result/Devrev/KGP wo LLM_KG_TF-IDF_50_1_2_30.json','r') as f:\n",
    "    data4 = json.load(f)"
   ]
  },
  {
   "cell_type": "code",
   "execution_count": 7,
   "id": "4ca6fda8",
   "metadata": {
    "scrolled": true
   },
   "outputs": [
    {
     "name": "stdout",
     "output_type": "stream",
     "text": [
      "Average Precision:  0.03077227011494249\n",
      "Average Recall:  0.9\n"
     ]
    }
   ],
   "source": [
    "df4 = pd.DataFrame(data4)\n",
    "find_metrics(df4)"
   ]
  },
  {
   "cell_type": "markdown",
   "id": "b0fc4188",
   "metadata": {},
   "source": [
    "## k=10"
   ]
  },
  {
   "cell_type": "code",
   "execution_count": 8,
   "id": "4d6fe6cd",
   "metadata": {},
   "outputs": [],
   "source": [
    "with open('./result/Devrev/KGP wo LLM_KG_TF-IDF_50_1_2_10.json','r') as f:\n",
    "    data5 = json.load(f)"
   ]
  },
  {
   "cell_type": "code",
   "execution_count": 9,
   "id": "485a22fc",
   "metadata": {},
   "outputs": [
    {
     "name": "stdout",
     "output_type": "stream",
     "text": [
      "Average Precision:  0.07447916666666651\n",
      "Average Recall:  0.721875\n"
     ]
    }
   ],
   "source": [
    "df5 = pd.DataFrame(data5)\n",
    "find_metrics(df5)"
   ]
  },
  {
   "cell_type": "markdown",
   "id": "4f473c95",
   "metadata": {},
   "source": [
    "# TF-IDF KG with n_gram(1,4)"
   ]
  },
  {
   "cell_type": "markdown",
   "id": "4f64a118",
   "metadata": {},
   "source": [
    "## k = 30"
   ]
  },
  {
   "cell_type": "code",
   "execution_count": 11,
   "id": "4c9edfc8",
   "metadata": {
    "scrolled": true
   },
   "outputs": [
    {
     "name": "stdout",
     "output_type": "stream",
     "text": [
      "Average Precision:  0.03056393678160916\n",
      "Average Recall:  0.89375\n"
     ]
    }
   ],
   "source": [
    "with open('./result/Devrev/KGP wo LLM_KG_TF-IDF_50_1_4_30.json','r') as f:\n",
    "    data6 = json.load(f)\n",
    "df6 = pd.DataFrame(data6)\n",
    "find_metrics(df6)    "
   ]
  },
  {
   "cell_type": "code",
   "execution_count": 13,
   "id": "6516586b",
   "metadata": {},
   "outputs": [
    {
     "data": {
      "text/plain": [
       "idx           160\n",
       "question      160\n",
       "answer        160\n",
       "prediction    160\n",
       "grade           0\n",
       "c_tokens        0\n",
       "p_tokens        0\n",
       "corpus        160\n",
       "supports      160\n",
       "t_seed          0\n",
       "t_reason        0\n",
       "t_nei           0\n",
       "dtype: int64"
      ]
     },
     "execution_count": 13,
     "metadata": {},
     "output_type": "execute_result"
    }
   ],
   "source": [
    "df6.count()"
   ]
  },
  {
   "cell_type": "markdown",
   "id": "a4b96282",
   "metadata": {},
   "source": [
    "# KNN KG with chunks ('\\n\\n\\n')"
   ]
  },
  {
   "cell_type": "markdown",
   "id": "bd3f4eba",
   "metadata": {},
   "source": [
    "## K=30"
   ]
  },
  {
   "cell_type": "code",
   "execution_count": 15,
   "id": "b53878d7",
   "metadata": {},
   "outputs": [
    {
     "name": "stdout",
     "output_type": "stream",
     "text": [
      "Average Precision:  0.028711001642036087\n",
      "Average Recall:  0.8421875\n"
     ]
    }
   ],
   "source": [
    "with open('./result/Devrev/KGP wo LLM_KG_KNN_10_30.json','r') as f:\n",
    "    data7 = json.load(f)\n",
    "df7 = pd.DataFrame(data7)\n",
    "find_metrics(df7)    "
   ]
  },
  {
   "cell_type": "markdown",
   "id": "c55f16b1",
   "metadata": {},
   "source": [
    "# KNN KG with chunks ('\\n\\n')"
   ]
  },
  {
   "cell_type": "markdown",
   "id": "d10ea4e6",
   "metadata": {},
   "source": [
    "## K = 30"
   ]
  },
  {
   "cell_type": "code",
   "execution_count": 18,
   "id": "8cce89b4",
   "metadata": {},
   "outputs": [
    {
     "name": "stdout",
     "output_type": "stream",
     "text": [
      "Average Precision:  0.11936972039773756\n",
      "Average Recall:  0.09586596535057501\n"
     ]
    }
   ],
   "source": [
    "with open('./result/Devrev/KGP wo LLM_KG_KNN_102_30.json','r') as f:\n",
    "    data8 = json.load(f)\n",
    "df8 = pd.DataFrame(data8)\n",
    "find_metrics(df8)    "
   ]
  },
  {
   "cell_type": "markdown",
   "id": "e70bc7c6",
   "metadata": {},
   "source": [
    "# TF-IDF,k=30"
   ]
  },
  {
   "cell_type": "code",
   "execution_count": 3,
   "id": "aa9c7dc5",
   "metadata": {},
   "outputs": [
    {
     "name": "stdout",
     "output_type": "stream",
     "text": [
      "Average Precision:  0.02923599708082462\n",
      "Average Recall:  0.8484375\n"
     ]
    }
   ],
   "source": [
    "with open('./result/Devrev/TF-IDF_30.json','r') as f:\n",
    "    data9 = json.load(f)\n",
    "df9 = pd.DataFrame(data9)\n",
    "find_metrics(df9)    "
   ]
  },
  {
   "cell_type": "markdown",
   "id": "a8d402a2",
   "metadata": {},
   "source": [
    "# BM25,k=30"
   ]
  },
  {
   "cell_type": "code",
   "execution_count": 4,
   "id": "6933079b",
   "metadata": {
    "scrolled": true
   },
   "outputs": [
    {
     "name": "stdout",
     "output_type": "stream",
     "text": [
      "Average Precision:  0.02298183497536944\n",
      "Average Recall:  0.66875\n"
     ]
    }
   ],
   "source": [
    "with open('./result/Devrev/BM25_30.json','r') as f:\n",
    "    data9 = json.load(f)\n",
    "df9 = pd.DataFrame(data9)\n",
    "find_metrics(df9)    "
   ]
  },
  {
   "cell_type": "markdown",
   "id": "76c8fde9",
   "metadata": {},
   "source": [
    "# TAGME KG, k=30"
   ]
  },
  {
   "cell_type": "code",
   "execution_count": 4,
   "id": "b202cd95",
   "metadata": {
    "scrolled": true
   },
   "outputs": [
    {
     "name": "stdout",
     "output_type": "stream",
     "text": [
      "Average Precision:  0.027994479390700367\n",
      "Average Recall:  0.728125\n"
     ]
    }
   ],
   "source": [
    "with open('./result/Devrev/KGP wo LLM_KG_TAGME_0.8_30.json','r') as f:\n",
    "    data9 = json.load(f)\n",
    "df9 = pd.DataFrame(data9)\n",
    "find_metrics(df9)    "
   ]
  },
  {
   "cell_type": "code",
   "execution_count": 5,
   "id": "78b3fd52",
   "metadata": {},
   "outputs": [
    {
     "data": {
      "text/html": [
       "<div>\n",
       "<style scoped>\n",
       "    .dataframe tbody tr th:only-of-type {\n",
       "        vertical-align: middle;\n",
       "    }\n",
       "\n",
       "    .dataframe tbody tr th {\n",
       "        vertical-align: top;\n",
       "    }\n",
       "\n",
       "    .dataframe thead th {\n",
       "        text-align: right;\n",
       "    }\n",
       "</style>\n",
       "<table border=\"1\" class=\"dataframe\">\n",
       "  <thead>\n",
       "    <tr style=\"text-align: right;\">\n",
       "      <th></th>\n",
       "      <th>idx</th>\n",
       "      <th>question</th>\n",
       "      <th>answer</th>\n",
       "      <th>prediction</th>\n",
       "      <th>grade</th>\n",
       "      <th>c_tokens</th>\n",
       "      <th>p_tokens</th>\n",
       "      <th>corpus</th>\n",
       "      <th>supports</th>\n",
       "      <th>t_seed</th>\n",
       "      <th>t_reason</th>\n",
       "      <th>t_nei</th>\n",
       "    </tr>\n",
       "  </thead>\n",
       "  <tbody>\n",
       "    <tr>\n",
       "      <th>111</th>\n",
       "      <td>111</td>\n",
       "      <td>Can you describe the different stages in the s...</td>\n",
       "      <td>Sure! The state machine for issues in DevRev c...</td>\n",
       "      <td>System mistake</td>\n",
       "      <td>None</td>\n",
       "      <td>None</td>\n",
       "      <td>None</td>\n",
       "      <td>[[Issues, Product Platform Solutions Marketpla...</td>\n",
       "      <td>[[Issues, Product Platform Solutions Marketpla...</td>\n",
       "      <td>None</td>\n",
       "      <td>None</td>\n",
       "      <td>None</td>\n",
       "    </tr>\n",
       "  </tbody>\n",
       "</table>\n",
       "</div>"
      ],
      "text/plain": [
       "     idx                                           question  \\\n",
       "111  111  Can you describe the different stages in the s...   \n",
       "\n",
       "                                                answer      prediction grade  \\\n",
       "111  Sure! The state machine for issues in DevRev c...  System mistake  None   \n",
       "\n",
       "    c_tokens p_tokens                                             corpus  \\\n",
       "111     None     None  [[Issues, Product Platform Solutions Marketpla...   \n",
       "\n",
       "                                              supports t_seed t_reason t_nei  \n",
       "111  [[Issues, Product Platform Solutions Marketpla...   None     None  None  "
      ]
     },
     "execution_count": 5,
     "metadata": {},
     "output_type": "execute_result"
    }
   ],
   "source": [
    "df9.sample(1)"
   ]
  },
  {
   "cell_type": "code",
   "execution_count": 5,
   "id": "a4d88d0c",
   "metadata": {
    "scrolled": false
   },
   "outputs": [],
   "source": [
    "# for i in df9.loc[111]['corpus']:\n",
    "#     print(i[0])"
   ]
  },
  {
   "cell_type": "code",
   "execution_count": 4,
   "id": "fed8d4e9",
   "metadata": {},
   "outputs": [],
   "source": [
    "# for i in df9.loc[111]['supports']:\n",
    "#     print(i[0])"
   ]
  },
  {
   "cell_type": "code",
   "execution_count": 3,
   "id": "679aab3b",
   "metadata": {
    "scrolled": false
   },
   "outputs": [],
   "source": [
    "# df9.loc[111]['supports']"
   ]
  },
  {
   "cell_type": "code",
   "execution_count": null,
   "id": "ee64f66f",
   "metadata": {},
   "outputs": [],
   "source": []
  },
  {
   "cell_type": "markdown",
   "id": "9bac2101",
   "metadata": {},
   "source": [
    "# K=5 TF-IDF N_gram(1,2)"
   ]
  },
  {
   "cell_type": "code",
   "execution_count": 60,
   "id": "21ec7b49",
   "metadata": {
    "scrolled": true
   },
   "outputs": [
    {
     "name": "stdout",
     "output_type": "stream",
     "text": [
      "Average Precision:  0.1224999999999998\n",
      "Average Recall:  0.528125\n"
     ]
    }
   ],
   "source": [
    "with open('./result/Devrev/KGP wo LLM_KG_TF-IDF_50_1_2_5.json','r') as f:\n",
    "    data10 = json.load(f)\n",
    "df10 = pd.DataFrame(data10)\n",
    "find_metrics(df10)    "
   ]
  },
  {
   "cell_type": "code",
   "execution_count": 22,
   "id": "cef7a6d9",
   "metadata": {},
   "outputs": [],
   "source": [
    "# for i in df10['corpus']:\n",
    "#     for j in i:\n",
    "#         print(j[2])"
   ]
  },
  {
   "cell_type": "code",
   "execution_count": 59,
   "id": "d59e8cb0",
   "metadata": {},
   "outputs": [],
   "source": [
    "# for idx in df10.index:\n",
    "#     for i in df10.loc[idx]['corpus']:\n",
    "#         print(i[0],i[2],end='===>')\n",
    "#         break\n",
    "#     for i in df10.loc[idx]['supports']:\n",
    "#         print(i[0])"
   ]
  },
  {
   "cell_type": "markdown",
   "id": "303a0b9e",
   "metadata": {},
   "source": [
    "# K=5; TAGME KG;"
   ]
  },
  {
   "cell_type": "code",
   "execution_count": 26,
   "id": "e2035b6c",
   "metadata": {},
   "outputs": [
    {
     "name": "stdout",
     "output_type": "stream",
     "text": [
      "Average Precision:  0.18770833333333325\n",
      "Average Recall:  0.49375\n"
     ]
    }
   ],
   "source": [
    "with open('./result/Devrev/KGP wo LLM_KG_TAGME_0.8_5.json','r') as f:\n",
    "    data10 = json.load(f)\n",
    "df10 = pd.DataFrame(data10)\n",
    "find_metrics(df10)    "
   ]
  },
  {
   "cell_type": "markdown",
   "id": "72eca0ec",
   "metadata": {},
   "source": [
    "# K=5; KNN KG"
   ]
  },
  {
   "cell_type": "code",
   "execution_count": 8,
   "id": "401935e6",
   "metadata": {},
   "outputs": [
    {
     "name": "stdout",
     "output_type": "stream",
     "text": [
      "Average Precision:  0.10833333333333317\n",
      "Average Recall:  0.528125\n"
     ]
    }
   ],
   "source": [
    "with open('./result/Devrev/KGP wo LLM_KG_KNN_10_5.json','r') as f:\n",
    "    data10 = json.load(f)\n",
    "df10 = pd.DataFrame(data10)\n",
    "find_metrics(df10)    "
   ]
  },
  {
   "cell_type": "markdown",
   "id": "ef00e6c4",
   "metadata": {},
   "source": [
    "# K=5; TF-IDF"
   ]
  },
  {
   "cell_type": "code",
   "execution_count": 6,
   "id": "02f6b00c",
   "metadata": {},
   "outputs": [
    {
     "name": "stdout",
     "output_type": "stream",
     "text": [
      "Average Precision:  0.12947916666666642\n",
      "Average Recall:  0.628125\n"
     ]
    }
   ],
   "source": [
    "with open('./result/Devrev/TF-IDF_5.json','r') as f:\n",
    "    data10 = json.load(f)\n",
    "df10 = pd.DataFrame(data10)\n",
    "find_metrics(df10)    "
   ]
  },
  {
   "cell_type": "markdown",
   "id": "4209ca7b",
   "metadata": {},
   "source": [
    "# K=5; BM25"
   ]
  },
  {
   "cell_type": "code",
   "execution_count": 7,
   "id": "39a27b68",
   "metadata": {},
   "outputs": [
    {
     "name": "stdout",
     "output_type": "stream",
     "text": [
      "Average Precision:  0.07499999999999993\n",
      "Average Recall:  0.3609375\n"
     ]
    }
   ],
   "source": [
    "with open('./result/Devrev/BM25_5.json','r') as f:\n",
    "    data10 = json.load(f)\n",
    "df10 = pd.DataFrame(data10)\n",
    "find_metrics(df10)    "
   ]
  }
 ],
 "metadata": {
  "kernelspec": {
   "display_name": "Python 3 (ipykernel)",
   "language": "python",
   "name": "python3"
  },
  "language_info": {
   "codemirror_mode": {
    "name": "ipython",
    "version": 3
   },
   "file_extension": ".py",
   "mimetype": "text/x-python",
   "name": "python",
   "nbconvert_exporter": "python",
   "pygments_lexer": "ipython3",
   "version": "3.9.13"
  }
 },
 "nbformat": 4,
 "nbformat_minor": 5
}
