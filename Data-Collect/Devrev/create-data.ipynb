{
 "cells": [
  {
   "cell_type": "code",
   "execution_count": 1,
   "id": "8b12aacd",
   "metadata": {},
   "outputs": [],
   "source": [
    "import json\n",
    "import pandas as pd"
   ]
  },
  {
   "cell_type": "code",
   "execution_count": 2,
   "id": "649d89f8",
   "metadata": {},
   "outputs": [],
   "source": [
    "with open('./dev0_knowledge_base.json','r') as f:\n",
    "    base = json.load(f) "
   ]
  },
  {
   "cell_type": "code",
   "execution_count": 3,
   "id": "916df424",
   "metadata": {},
   "outputs": [
    {
     "data": {
      "text/html": [
       "<div>\n",
       "<style scoped>\n",
       "    .dataframe tbody tr th:only-of-type {\n",
       "        vertical-align: middle;\n",
       "    }\n",
       "\n",
       "    .dataframe tbody tr th {\n",
       "        vertical-align: top;\n",
       "    }\n",
       "\n",
       "    .dataframe thead th {\n",
       "        text-align: right;\n",
       "    }\n",
       "</style>\n",
       "<table border=\"1\" class=\"dataframe\">\n",
       "  <thead>\n",
       "    <tr style=\"text-align: right;\">\n",
       "      <th></th>\n",
       "      <th>source</th>\n",
       "      <th>question</th>\n",
       "      <th>sources</th>\n",
       "      <th>answer</th>\n",
       "    </tr>\n",
       "  </thead>\n",
       "  <tbody>\n",
       "    <tr>\n",
       "      <th>0</th>\n",
       "      <td>devrev-dev0</td>\n",
       "      <td>What are articles?</td>\n",
       "      <td>['devrev-dev0---article-908']</td>\n",
       "      <td>Articles are pieces of information about your ...</td>\n",
       "    </tr>\n",
       "    <tr>\n",
       "      <th>1</th>\n",
       "      <td>devrev-dev0</td>\n",
       "      <td>How can articles be found?</td>\n",
       "      <td>['devrev-dev0---article-908']</td>\n",
       "      <td>Articles can be found in the DevRev customer p...</td>\n",
       "    </tr>\n",
       "    <tr>\n",
       "      <th>2</th>\n",
       "      <td>devrev-dev0</td>\n",
       "      <td>What are the status of an article?</td>\n",
       "      <td>['devrev-dev0---article-908']</td>\n",
       "      <td>The status of an article can be one of the fol...</td>\n",
       "    </tr>\n",
       "    <tr>\n",
       "      <th>3</th>\n",
       "      <td>devrev-dev0</td>\n",
       "      <td>What does draft status of article mean?</td>\n",
       "      <td>['devrev-dev0---article-908']</td>\n",
       "      <td>The draft status of an article means that it i...</td>\n",
       "    </tr>\n",
       "    <tr>\n",
       "      <th>4</th>\n",
       "      <td>devrev-dev0</td>\n",
       "      <td>What does published status of article mean?</td>\n",
       "      <td>['devrev-dev0---article-908']</td>\n",
       "      <td>The published status of an article means that ...</td>\n",
       "    </tr>\n",
       "  </tbody>\n",
       "</table>\n",
       "</div>"
      ],
      "text/plain": [
       "        source                                     question  \\\n",
       "0  devrev-dev0                           What are articles?   \n",
       "1  devrev-dev0                   How can articles be found?   \n",
       "2  devrev-dev0           What are the status of an article?   \n",
       "3  devrev-dev0      What does draft status of article mean?   \n",
       "4  devrev-dev0  What does published status of article mean?   \n",
       "\n",
       "                         sources  \\\n",
       "0  ['devrev-dev0---article-908']   \n",
       "1  ['devrev-dev0---article-908']   \n",
       "2  ['devrev-dev0---article-908']   \n",
       "3  ['devrev-dev0---article-908']   \n",
       "4  ['devrev-dev0---article-908']   \n",
       "\n",
       "                                              answer  \n",
       "0  Articles are pieces of information about your ...  \n",
       "1  Articles can be found in the DevRev customer p...  \n",
       "2  The status of an article can be one of the fol...  \n",
       "3  The draft status of an article means that it i...  \n",
       "4  The published status of an article means that ...  "
      ]
     },
     "execution_count": 3,
     "metadata": {},
     "output_type": "execute_result"
    }
   ],
   "source": [
    "qac = pd.read_csv('dev0_query_context_answer.csv')\n",
    "qac.head()"
   ]
  },
  {
   "cell_type": "code",
   "execution_count": 4,
   "id": "34fdb7f3",
   "metadata": {},
   "outputs": [
    {
     "data": {
      "text/plain": [
       "source      163\n",
       "question    163\n",
       "sources     163\n",
       "answer      163\n",
       "dtype: int64"
      ]
     },
     "execution_count": 4,
     "metadata": {},
     "output_type": "execute_result"
    }
   ],
   "source": [
    "qac.count()"
   ]
  },
  {
   "cell_type": "code",
   "execution_count": 5,
   "id": "98b94b91",
   "metadata": {},
   "outputs": [
    {
     "data": {
      "text/plain": [
       "source      0\n",
       "question    0\n",
       "sources     0\n",
       "answer      0\n",
       "dtype: int64"
      ]
     },
     "execution_count": 5,
     "metadata": {},
     "output_type": "execute_result"
    }
   ],
   "source": [
    "qac.isnull().sum()"
   ]
  },
  {
   "cell_type": "code",
   "execution_count": 6,
   "id": "3951ac2a",
   "metadata": {},
   "outputs": [
    {
     "data": {
      "text/plain": [
       "\"['devrev-dev0---article-908']\""
      ]
     },
     "execution_count": 6,
     "metadata": {},
     "output_type": "execute_result"
    }
   ],
   "source": [
    "qac['sources'][0]"
   ]
  },
  {
   "cell_type": "code",
   "execution_count": 7,
   "id": "5df0acdd",
   "metadata": {},
   "outputs": [
    {
     "data": {
      "text/plain": [
       "array([908, 906, 806, 812, 907, 950, 888, 814, 835, 830, 833, 846, 954,\n",
       "       805, 826, 810, 787, 788, 790, 797, 836, 838, 859, 866, 867, 872,\n",
       "       905, 924, 934, 939, 942, 963, 964, 804, 802, 808, 807, 789, 823,\n",
       "       832, 958, 923, 926, 816, 825])"
      ]
     },
     "execution_count": 7,
     "metadata": {},
     "output_type": "execute_result"
    }
   ],
   "source": [
    "qac['sources'] = qac['sources'].apply(lambda x:x[-5:-2]).astype(int)\n",
    "qac.sources.unique()"
   ]
  },
  {
   "cell_type": "code",
   "execution_count": 8,
   "id": "c5c3d72f",
   "metadata": {},
   "outputs": [
    {
     "data": {
      "text/html": [
       "<div>\n",
       "<style scoped>\n",
       "    .dataframe tbody tr th:only-of-type {\n",
       "        vertical-align: middle;\n",
       "    }\n",
       "\n",
       "    .dataframe tbody tr th {\n",
       "        vertical-align: top;\n",
       "    }\n",
       "\n",
       "    .dataframe thead th {\n",
       "        text-align: right;\n",
       "    }\n",
       "</style>\n",
       "<table border=\"1\" class=\"dataframe\">\n",
       "  <thead>\n",
       "    <tr style=\"text-align: right;\">\n",
       "      <th></th>\n",
       "      <th>source</th>\n",
       "      <th>question</th>\n",
       "      <th>sources</th>\n",
       "      <th>answer</th>\n",
       "    </tr>\n",
       "  </thead>\n",
       "  <tbody>\n",
       "    <tr>\n",
       "      <th>0</th>\n",
       "      <td>devrev-dev0</td>\n",
       "      <td>What are articles?</td>\n",
       "      <td>908</td>\n",
       "      <td>Articles are pieces of information about your ...</td>\n",
       "    </tr>\n",
       "    <tr>\n",
       "      <th>1</th>\n",
       "      <td>devrev-dev0</td>\n",
       "      <td>How can articles be found?</td>\n",
       "      <td>908</td>\n",
       "      <td>Articles can be found in the DevRev customer p...</td>\n",
       "    </tr>\n",
       "    <tr>\n",
       "      <th>2</th>\n",
       "      <td>devrev-dev0</td>\n",
       "      <td>What are the status of an article?</td>\n",
       "      <td>908</td>\n",
       "      <td>The status of an article can be one of the fol...</td>\n",
       "    </tr>\n",
       "    <tr>\n",
       "      <th>3</th>\n",
       "      <td>devrev-dev0</td>\n",
       "      <td>What does draft status of article mean?</td>\n",
       "      <td>908</td>\n",
       "      <td>The draft status of an article means that it i...</td>\n",
       "    </tr>\n",
       "    <tr>\n",
       "      <th>4</th>\n",
       "      <td>devrev-dev0</td>\n",
       "      <td>What does published status of article mean?</td>\n",
       "      <td>908</td>\n",
       "      <td>The published status of an article means that ...</td>\n",
       "    </tr>\n",
       "  </tbody>\n",
       "</table>\n",
       "</div>"
      ],
      "text/plain": [
       "        source                                     question  sources  \\\n",
       "0  devrev-dev0                           What are articles?      908   \n",
       "1  devrev-dev0                   How can articles be found?      908   \n",
       "2  devrev-dev0           What are the status of an article?      908   \n",
       "3  devrev-dev0      What does draft status of article mean?      908   \n",
       "4  devrev-dev0  What does published status of article mean?      908   \n",
       "\n",
       "                                              answer  \n",
       "0  Articles are pieces of information about your ...  \n",
       "1  Articles can be found in the DevRev customer p...  \n",
       "2  The status of an article can be one of the fol...  \n",
       "3  The draft status of an article means that it i...  \n",
       "4  The published status of an article means that ...  "
      ]
     },
     "execution_count": 8,
     "metadata": {},
     "output_type": "execute_result"
    }
   ],
   "source": [
    "qac.head()"
   ]
  },
  {
   "cell_type": "code",
   "execution_count": 9,
   "id": "7fe766a5",
   "metadata": {},
   "outputs": [
    {
     "data": {
      "text/plain": [
       "{'id': 'ART-1000',\n",
       " 'dataset_source': 'devrev-dev0',\n",
       " 'title': 'Why You Should Be Using CNAME Abstractions',\n",
       " 'content': 'Here’s the full list of posts for this series:\\n\\n\\n  Part 1: DNS Primer\\n  Part 2: CNAME Abstractions <– You are here\\n  Part 3: How We Use CNAME Abstractions\\n\\n\\nWh\\n\\nWhen multiple things resolve to a single endpoint, using a DNS CNAME abstraction will simplify your configuration.\\n\\nFor example, say I have three websites:\\n\\n\\n  foo.mycompany.com\\n  bar.mycompany.com\\n  bas.mycompany.com\\n\\n\\nAnd these all need to resolve back to the same AWS ELB endpoint (e.g., elb-blah.amazonaws.com).\\n\\nI have two options here:\\n\\n\\n  Create 3 CNAME records and map each to elb.blah.amazonaws.com\\n\\n\\n\\n  foo.mycompany.com –> elb.blah.amazonaws.com\\n  bar.mycompany.com –> elb.blah.amazonaws.com\\n  bas.mycompany.com –> elb.blah.amazonaws.com\\n\\n\\nOR\\n\\n\\n  Create an abstraction CNAME, and map the records to that\\n\\n\\n\\n  gw.mycompany.com –> elb.blah.amazonaws.com\\n  foo.mycompany.com –> gw.mycompany.com\\n  bar.mycompany.com –> gw.mycompany.com\\n  bas.mycompany.com –> gw.mycompany.com\\n\\n\\nNow why would I want to do this? I essentially created four records instead of 3… Preparation.\\n\\nDNS records can change and evolve constantly. Say, for example, that you moved from AWS to Google Cloud (e.g., glb-blah.cloud.google.com); you’d need to update all three records:\\n\\n\\n  foo.mycompany.com –> glb-blah.cloud.google.com\\n  bar.mycompany.com –> glb-blah.cloud.google.com\\n  bas.mycompany.com –> glb-blah.cloud.google.com\\n\\n\\nHowever, if you used CNAME abstraction, you would only need to update the record for gw and point to the new GCP endpoint:\\n\\n\\n  gw.mycompany.com –> glb-blah.cloud.google.com\\n\\n\\nBut what if They don’t all point to the same endpoints now? Simple, just create another CNAME abstraction and update foo,bar,bas to point to the necessary endpoints.\\n\\n\\n  foo.mycompany.com –> glb-blah.cloud.google.com\\n  bar.mycompany.com –> glb-blah.cloud.google.com\\n  bas.mycompany.com –> glb-blah.cloud.google.com\\n\\n\\nShould I always abstract things? Not all the time. Here are the considerations I evaluate whenever I’m looking at this:\\n\\n\\n  Will > 1 thing ever point to this?\\n  Is the possibility that this will change non-zero?\\n\\n\\nIn most cases, things are never permanent, so in most cases I use URL abstractions to simplify my life down the line.\\n'}"
      ]
     },
     "execution_count": 9,
     "metadata": {},
     "output_type": "execute_result"
    }
   ],
   "source": [
    "base[0]"
   ]
  },
  {
   "cell_type": "code",
   "execution_count": 10,
   "id": "39e9499d",
   "metadata": {},
   "outputs": [
    {
     "data": {
      "text/plain": [
       "{'ART-1000',\n",
       " 'ART-1001',\n",
       " 'ART-1002',\n",
       " 'ART-1003',\n",
       " 'ART-1004',\n",
       " 'ART-1005',\n",
       " 'ART-1008',\n",
       " 'ART-1013',\n",
       " 'ART-1014',\n",
       " 'ART-1018',\n",
       " 'ART-1024',\n",
       " 'ART-1027',\n",
       " 'ART-1028',\n",
       " 'ART-1029',\n",
       " 'ART-1030',\n",
       " 'ART-1031',\n",
       " 'ART-1032',\n",
       " 'ART-1033',\n",
       " 'ART-1034',\n",
       " 'ART-1035',\n",
       " 'ART-1036',\n",
       " 'ART-1037',\n",
       " 'ART-1038',\n",
       " 'ART-1039',\n",
       " 'ART-1040',\n",
       " 'ART-1042',\n",
       " 'ART-1044',\n",
       " 'ART-1045',\n",
       " 'ART-1046',\n",
       " 'ART-1048',\n",
       " 'ART-1052',\n",
       " 'ART-1158',\n",
       " 'ART-1159',\n",
       " 'ART-1160',\n",
       " 'ART-1161',\n",
       " 'ART-1162',\n",
       " 'ART-1163',\n",
       " 'ART-1164',\n",
       " 'ART-1165',\n",
       " 'ART-1166',\n",
       " 'ART-1167',\n",
       " 'ART-1168',\n",
       " 'ART-1169',\n",
       " 'ART-1170',\n",
       " 'ART-1171',\n",
       " 'ART-1172',\n",
       " 'ART-1173',\n",
       " 'ART-1174',\n",
       " 'ART-1175',\n",
       " 'ART-1176',\n",
       " 'ART-1177',\n",
       " 'ART-1178',\n",
       " 'ART-1179',\n",
       " 'ART-1180',\n",
       " 'ART-1181',\n",
       " 'ART-1182',\n",
       " 'ART-1183',\n",
       " 'ART-1184',\n",
       " 'ART-1185',\n",
       " 'ART-1186',\n",
       " 'ART-1187',\n",
       " 'ART-1188',\n",
       " 'ART-1189',\n",
       " 'ART-1190',\n",
       " 'ART-1191',\n",
       " 'ART-1192',\n",
       " 'ART-1193',\n",
       " 'ART-1194',\n",
       " 'ART-1195',\n",
       " 'ART-1196',\n",
       " 'ART-1197',\n",
       " 'ART-1198',\n",
       " 'ART-1199',\n",
       " 'ART-1200',\n",
       " 'ART-1201',\n",
       " 'ART-1202',\n",
       " 'ART-1203',\n",
       " 'ART-1204',\n",
       " 'ART-1205',\n",
       " 'ART-1206',\n",
       " 'ART-1207',\n",
       " 'ART-1208',\n",
       " 'ART-1209',\n",
       " 'ART-1210',\n",
       " 'ART-1211',\n",
       " 'ART-1212',\n",
       " 'ART-1213',\n",
       " 'ART-1214',\n",
       " 'ART-1215',\n",
       " 'ART-1216',\n",
       " 'ART-1217',\n",
       " 'ART-1218',\n",
       " 'ART-1219',\n",
       " 'ART-1220',\n",
       " 'ART-1221',\n",
       " 'ART-1222',\n",
       " 'ART-1223',\n",
       " 'ART-1224',\n",
       " 'ART-1225',\n",
       " 'ART-1226',\n",
       " 'ART-1227',\n",
       " 'ART-1228',\n",
       " 'ART-1229',\n",
       " 'ART-1230',\n",
       " 'ART-1231',\n",
       " 'ART-1232',\n",
       " 'ART-1233',\n",
       " 'ART-1234',\n",
       " 'ART-1235',\n",
       " 'ART-1236',\n",
       " 'ART-1237',\n",
       " 'ART-1238',\n",
       " 'ART-1239',\n",
       " 'ART-1240',\n",
       " 'ART-1241',\n",
       " 'ART-1242',\n",
       " 'ART-1243',\n",
       " 'ART-1244',\n",
       " 'ART-1245',\n",
       " 'ART-1246',\n",
       " 'ART-1247',\n",
       " 'ART-1248',\n",
       " 'ART-1249',\n",
       " 'ART-1250',\n",
       " 'ART-1251',\n",
       " 'ART-1252',\n",
       " 'ART-1253',\n",
       " 'ART-1254',\n",
       " 'ART-1255',\n",
       " 'ART-1256',\n",
       " 'ART-1257',\n",
       " 'ART-1258',\n",
       " 'ART-1259',\n",
       " 'ART-1260',\n",
       " 'ART-1261',\n",
       " 'ART-1262',\n",
       " 'ART-1263',\n",
       " 'ART-1264',\n",
       " 'ART-1265',\n",
       " 'ART-1266',\n",
       " 'ART-1267',\n",
       " 'ART-1268',\n",
       " 'ART-1269',\n",
       " 'ART-1270',\n",
       " 'ART-1271',\n",
       " 'ART-1272',\n",
       " 'ART-1273',\n",
       " 'ART-1274',\n",
       " 'ART-1275',\n",
       " 'ART-1276',\n",
       " 'ART-1277',\n",
       " 'ART-1278',\n",
       " 'ART-1279',\n",
       " 'ART-1280',\n",
       " 'ART-1281',\n",
       " 'ART-1282',\n",
       " 'ART-1283',\n",
       " 'ART-1284',\n",
       " 'ART-1285',\n",
       " 'ART-1286',\n",
       " 'ART-1287',\n",
       " 'ART-1288',\n",
       " 'ART-1289',\n",
       " 'ART-1290',\n",
       " 'ART-1291',\n",
       " 'ART-1292',\n",
       " 'ART-1293',\n",
       " 'ART-1294',\n",
       " 'ART-1295',\n",
       " 'ART-1296',\n",
       " 'ART-1297',\n",
       " 'ART-1298',\n",
       " 'ART-1299',\n",
       " 'ART-1300',\n",
       " 'ART-1301',\n",
       " 'ART-1302',\n",
       " 'ART-1303',\n",
       " 'ART-1304',\n",
       " 'ART-1305',\n",
       " 'ART-1306',\n",
       " 'ART-1307',\n",
       " 'ART-1308',\n",
       " 'ART-1309',\n",
       " 'ART-1310',\n",
       " 'ART-1311',\n",
       " 'ART-1312',\n",
       " 'ART-1313',\n",
       " 'ART-1314',\n",
       " 'ART-1315',\n",
       " 'ART-1316',\n",
       " 'ART-718',\n",
       " 'ART-719',\n",
       " 'ART-720',\n",
       " 'ART-721',\n",
       " 'ART-722',\n",
       " 'ART-738',\n",
       " 'ART-785',\n",
       " 'ART-786',\n",
       " 'ART-787',\n",
       " 'ART-788',\n",
       " 'ART-789',\n",
       " 'ART-790',\n",
       " 'ART-791',\n",
       " 'ART-792',\n",
       " 'ART-793',\n",
       " 'ART-794',\n",
       " 'ART-795',\n",
       " 'ART-796',\n",
       " 'ART-797',\n",
       " 'ART-798',\n",
       " 'ART-799',\n",
       " 'ART-800',\n",
       " 'ART-801',\n",
       " 'ART-802',\n",
       " 'ART-804',\n",
       " 'ART-805',\n",
       " 'ART-806',\n",
       " 'ART-807',\n",
       " 'ART-808',\n",
       " 'ART-809',\n",
       " 'ART-810',\n",
       " 'ART-811',\n",
       " 'ART-812',\n",
       " 'ART-813',\n",
       " 'ART-814',\n",
       " 'ART-815',\n",
       " 'ART-816',\n",
       " 'ART-817',\n",
       " 'ART-818',\n",
       " 'ART-823',\n",
       " 'ART-824',\n",
       " 'ART-825',\n",
       " 'ART-826',\n",
       " 'ART-827',\n",
       " 'ART-828',\n",
       " 'ART-829',\n",
       " 'ART-830',\n",
       " 'ART-831',\n",
       " 'ART-832',\n",
       " 'ART-833',\n",
       " 'ART-834',\n",
       " 'ART-835',\n",
       " 'ART-836',\n",
       " 'ART-838',\n",
       " 'ART-840',\n",
       " 'ART-841',\n",
       " 'ART-842',\n",
       " 'ART-843',\n",
       " 'ART-844',\n",
       " 'ART-845',\n",
       " 'ART-846',\n",
       " 'ART-856',\n",
       " 'ART-859',\n",
       " 'ART-860',\n",
       " 'ART-861',\n",
       " 'ART-862',\n",
       " 'ART-863',\n",
       " 'ART-864',\n",
       " 'ART-866',\n",
       " 'ART-867',\n",
       " 'ART-868',\n",
       " 'ART-869',\n",
       " 'ART-871',\n",
       " 'ART-872',\n",
       " 'ART-873',\n",
       " 'ART-874',\n",
       " 'ART-875',\n",
       " 'ART-886',\n",
       " 'ART-888',\n",
       " 'ART-890',\n",
       " 'ART-891',\n",
       " 'ART-893',\n",
       " 'ART-896',\n",
       " 'ART-899',\n",
       " 'ART-904',\n",
       " 'ART-905',\n",
       " 'ART-906',\n",
       " 'ART-907',\n",
       " 'ART-908',\n",
       " 'ART-909',\n",
       " 'ART-910',\n",
       " 'ART-912',\n",
       " 'ART-913',\n",
       " 'ART-915',\n",
       " 'ART-916',\n",
       " 'ART-919',\n",
       " 'ART-920',\n",
       " 'ART-921',\n",
       " 'ART-922',\n",
       " 'ART-923',\n",
       " 'ART-924',\n",
       " 'ART-925',\n",
       " 'ART-926',\n",
       " 'ART-932',\n",
       " 'ART-936',\n",
       " 'ART-939',\n",
       " 'ART-949',\n",
       " 'ART-950',\n",
       " 'ART-951',\n",
       " 'ART-952',\n",
       " 'ART-953',\n",
       " 'ART-954',\n",
       " 'ART-962',\n",
       " 'ART-963',\n",
       " 'ART-964',\n",
       " 'ART-965',\n",
       " 'ART-966',\n",
       " 'ART-967',\n",
       " 'ART-970',\n",
       " 'ART-971',\n",
       " 'ART-973',\n",
       " 'ART-974',\n",
       " 'ART-978',\n",
       " 'ART-980',\n",
       " 'ART-982',\n",
       " 'ART-984',\n",
       " 'ART-985',\n",
       " 'ART-986',\n",
       " 'ART-990',\n",
       " 'ART-991',\n",
       " 'ART-992',\n",
       " 'ART-993',\n",
       " 'ART-994',\n",
       " 'ART-996',\n",
       " 'ART-997',\n",
       " 'devrev-dev0-qnas-0',\n",
       " 'devrev-dev0-qnas-1',\n",
       " 'devrev-dev0-qnas-10',\n",
       " 'devrev-dev0-qnas-11',\n",
       " 'devrev-dev0-qnas-12',\n",
       " 'devrev-dev0-qnas-13',\n",
       " 'devrev-dev0-qnas-14',\n",
       " 'devrev-dev0-qnas-15',\n",
       " 'devrev-dev0-qnas-16',\n",
       " 'devrev-dev0-qnas-17',\n",
       " 'devrev-dev0-qnas-18',\n",
       " 'devrev-dev0-qnas-19',\n",
       " 'devrev-dev0-qnas-2',\n",
       " 'devrev-dev0-qnas-20',\n",
       " 'devrev-dev0-qnas-21',\n",
       " 'devrev-dev0-qnas-22',\n",
       " 'devrev-dev0-qnas-23',\n",
       " 'devrev-dev0-qnas-24',\n",
       " 'devrev-dev0-qnas-25',\n",
       " 'devrev-dev0-qnas-26',\n",
       " 'devrev-dev0-qnas-27',\n",
       " 'devrev-dev0-qnas-3',\n",
       " 'devrev-dev0-qnas-4',\n",
       " 'devrev-dev0-qnas-5',\n",
       " 'devrev-dev0-qnas-6',\n",
       " 'devrev-dev0-qnas-7',\n",
       " 'devrev-dev0-qnas-8',\n",
       " 'devrev-dev0-qnas-9'}"
      ]
     },
     "execution_count": 10,
     "metadata": {},
     "output_type": "execute_result"
    }
   ],
   "source": [
    "source_set = set()\n",
    "for i in base:\n",
    "    source_set.add(i['id'])\n",
    "source_set    "
   ]
  },
  {
   "cell_type": "code",
   "execution_count": 11,
   "id": "f6e745e9",
   "metadata": {},
   "outputs": [
    {
     "data": {
      "text/plain": [
       "('1000', 'ART-', '25', 'devrev-dev0-qnas-')"
      ]
     },
     "execution_count": 11,
     "metadata": {},
     "output_type": "execute_result"
    }
   ],
   "source": [
    "base[0]['id'][4:],base[0]['id'][:4],base[-10]['id'][17:],base[-10]['id'][:17]"
   ]
  },
  {
   "cell_type": "markdown",
   "id": "935c058d",
   "metadata": {},
   "source": [
    "## Add title_chunks, supports"
   ]
  },
  {
   "cell_type": "code",
   "execution_count": 12,
   "id": "1f696174",
   "metadata": {},
   "outputs": [],
   "source": [
    "eg_chunks = base[0]['content'].split('\\n\\n')"
   ]
  },
  {
   "cell_type": "code",
   "execution_count": 13,
   "id": "986c85bb",
   "metadata": {},
   "outputs": [
    {
     "data": {
      "text/plain": [
       "[['Why You Should Be Using CNAME Abstractions',\n",
       "  'Here’s the full list of posts for this series:'],\n",
       " ['Why You Should Be Using CNAME Abstractions',\n",
       "  '\\n  Part 1: DNS Primer\\n  Part 2: CNAME Abstractions <– You are here\\n  Part 3: How We Use CNAME Abstractions'],\n",
       " ['Why You Should Be Using CNAME Abstractions', '\\nWh'],\n",
       " ['Why You Should Be Using CNAME Abstractions',\n",
       "  'When multiple things resolve to a single endpoint, using a DNS CNAME abstraction will simplify your configuration.'],\n",
       " ['Why You Should Be Using CNAME Abstractions',\n",
       "  'For example, say I have three websites:'],\n",
       " ['Why You Should Be Using CNAME Abstractions',\n",
       "  '\\n  foo.mycompany.com\\n  bar.mycompany.com\\n  bas.mycompany.com'],\n",
       " ['Why You Should Be Using CNAME Abstractions',\n",
       "  '\\nAnd these all need to resolve back to the same AWS ELB endpoint (e.g., elb-blah.amazonaws.com).'],\n",
       " ['Why You Should Be Using CNAME Abstractions', 'I have two options here:'],\n",
       " ['Why You Should Be Using CNAME Abstractions',\n",
       "  '\\n  Create 3 CNAME records and map each to elb.blah.amazonaws.com'],\n",
       " ['Why You Should Be Using CNAME Abstractions', ''],\n",
       " ['Why You Should Be Using CNAME Abstractions',\n",
       "  '  foo.mycompany.com –> elb.blah.amazonaws.com\\n  bar.mycompany.com –> elb.blah.amazonaws.com\\n  bas.mycompany.com –> elb.blah.amazonaws.com'],\n",
       " ['Why You Should Be Using CNAME Abstractions', '\\nOR'],\n",
       " ['Why You Should Be Using CNAME Abstractions',\n",
       "  '\\n  Create an abstraction CNAME, and map the records to that'],\n",
       " ['Why You Should Be Using CNAME Abstractions', ''],\n",
       " ['Why You Should Be Using CNAME Abstractions',\n",
       "  '  gw.mycompany.com –> elb.blah.amazonaws.com\\n  foo.mycompany.com –> gw.mycompany.com\\n  bar.mycompany.com –> gw.mycompany.com\\n  bas.mycompany.com –> gw.mycompany.com'],\n",
       " ['Why You Should Be Using CNAME Abstractions',\n",
       "  '\\nNow why would I want to do this? I essentially created four records instead of 3… Preparation.'],\n",
       " ['Why You Should Be Using CNAME Abstractions',\n",
       "  'DNS records can change and evolve constantly. Say, for example, that you moved from AWS to Google Cloud (e.g., glb-blah.cloud.google.com); you’d need to update all three records:'],\n",
       " ['Why You Should Be Using CNAME Abstractions',\n",
       "  '\\n  foo.mycompany.com –> glb-blah.cloud.google.com\\n  bar.mycompany.com –> glb-blah.cloud.google.com\\n  bas.mycompany.com –> glb-blah.cloud.google.com'],\n",
       " ['Why You Should Be Using CNAME Abstractions',\n",
       "  '\\nHowever, if you used CNAME abstraction, you would only need to update the record for gw and point to the new GCP endpoint:'],\n",
       " ['Why You Should Be Using CNAME Abstractions',\n",
       "  '\\n  gw.mycompany.com –> glb-blah.cloud.google.com'],\n",
       " ['Why You Should Be Using CNAME Abstractions',\n",
       "  '\\nBut what if They don’t all point to the same endpoints now? Simple, just create another CNAME abstraction and update foo,bar,bas to point to the necessary endpoints.'],\n",
       " ['Why You Should Be Using CNAME Abstractions',\n",
       "  '\\n  foo.mycompany.com –> glb-blah.cloud.google.com\\n  bar.mycompany.com –> glb-blah.cloud.google.com\\n  bas.mycompany.com –> glb-blah.cloud.google.com'],\n",
       " ['Why You Should Be Using CNAME Abstractions',\n",
       "  '\\nShould I always abstract things? Not all the time. Here are the considerations I evaluate whenever I’m looking at this:'],\n",
       " ['Why You Should Be Using CNAME Abstractions',\n",
       "  '\\n  Will > 1 thing ever point to this?\\n  Is the possibility that this will change non-zero?'],\n",
       " ['Why You Should Be Using CNAME Abstractions',\n",
       "  '\\nIn most cases, things are never permanent, so in most cases I use URL abstractions to simplify my life down the line.\\n']]"
      ]
     },
     "execution_count": 13,
     "metadata": {},
     "output_type": "execute_result"
    }
   ],
   "source": [
    "eg_title_chunks = [[base[0]['title'],chunk] for chunk in eg_chunks]\n",
    "eg_title_chunks"
   ]
  },
  {
   "cell_type": "code",
   "execution_count": 14,
   "id": "65edebc7",
   "metadata": {},
   "outputs": [],
   "source": [
    "for i in base:\n",
    "    chunks = i['content'].split('\\n\\n')\n",
    "    title_chunks = [[i['title'],chunk] for chunk in chunks]\n",
    "    i['supports'] = title_chunks\n",
    "#     print(title_chunks)\n",
    "#     break"
   ]
  },
  {
   "cell_type": "code",
   "execution_count": 15,
   "id": "f1fda1e9",
   "metadata": {},
   "outputs": [],
   "source": [
    "# with open('./test_docs_qa.json','r') as f:\n",
    "#     test = json.load(f) "
   ]
  },
  {
   "cell_type": "code",
   "execution_count": 16,
   "id": "edd8c6e5",
   "metadata": {},
   "outputs": [],
   "source": [
    "# test[0].keys(),base[0].keys()"
   ]
  },
  {
   "cell_type": "code",
   "execution_count": 17,
   "id": "b524132e",
   "metadata": {},
   "outputs": [
    {
     "name": "stdout",
     "output_type": "stream",
     "text": [
      "934\n",
      "942\n",
      "958\n"
     ]
    }
   ],
   "source": [
    "qac_json_list = []\n",
    "for i in range(len(qac)):\n",
    "    qac_json = {}\n",
    "    qac_json[\"question\"] = qac.loc[i][\"question\"]\n",
    "    qac_json[\"answer\"] = qac.loc[i][\"answer\"]\n",
    "    rel_id = qac.loc[i][\"sources\"]\n",
    "    flag = 0\n",
    "    for sample in base:\n",
    "        if(sample['id'][4:]==str(rel_id)):\n",
    "            qac_json[\"supports\"] = sample[\"supports\"]\n",
    "            flag=1\n",
    "    if(flag==0):\n",
    "        print(rel_id)\n",
    "    else:\n",
    "        qac_json_list.append(qac_json)"
   ]
  },
  {
   "cell_type": "code",
   "execution_count": 18,
   "id": "1eeba1b7",
   "metadata": {},
   "outputs": [
    {
     "data": {
      "text/plain": [
       "160"
      ]
     },
     "execution_count": 18,
     "metadata": {},
     "output_type": "execute_result"
    }
   ],
   "source": [
    "len(qac_json_list)"
   ]
  },
  {
   "cell_type": "code",
   "execution_count": 19,
   "id": "b409b647",
   "metadata": {},
   "outputs": [],
   "source": [
    "corpus_title_chunks = []\n",
    "for sample in base:\n",
    "    title_chunks = sample['supports']\n",
    "    for tc in title_chunks:\n",
    "        corpus_title_chunks.append(tc)"
   ]
  },
  {
   "cell_type": "code",
   "execution_count": 21,
   "id": "f4833682",
   "metadata": {
    "scrolled": true
   },
   "outputs": [
    {
     "data": {
      "text/plain": [
       "[['Article created from 9 QnAs',\n",
       "  'Question: What is the difference between File Storage and Base Storage?\\nAnswer: The distinction between \"base storage\" and \"file storage\" lies in their respective functionalities within a system. \"Base storage\" is associated with the core object model, encompassing fundamental elements such as work, parts, and identity. On the other hand, \"file storage\" is designed for handling various file types, including images and documents, often utilizing storage solutions like Amazon S3. While \"base storage\" deals with the foundational structure and entities of the system, \"file storage\" is dedicated to managing and storing files in a scalable and secure manner.'],\n",
       " ['Article created from 9 QnAs',\n",
       "  'Question: Is there a plan to host DevRev in Europe?\\nAnswer: DevRev is a global product and there is a roll-out plan to cover all major regions, including the EU. It is planned to be available in the EU before the 1st of February 2024.'],\n",
       " ['Article created from 9 QnAs', '']]"
      ]
     },
     "execution_count": 21,
     "metadata": {},
     "output_type": "execute_result"
    }
   ],
   "source": [
    "corpus_title_chunks[-3:]"
   ]
  },
  {
   "cell_type": "code",
   "execution_count": 22,
   "id": "c73e764c",
   "metadata": {},
   "outputs": [
    {
     "data": {
      "text/plain": [
       "9922"
      ]
     },
     "execution_count": 22,
     "metadata": {},
     "output_type": "execute_result"
    }
   ],
   "source": [
    "len(corpus_title_chunks)"
   ]
  },
  {
   "cell_type": "markdown",
   "id": "9da1e3ca",
   "metadata": {},
   "source": [
    "# Add corpus i.e., title_chunks to qac_json_list or save as seperate json"
   ]
  },
  {
   "cell_type": "code",
   "execution_count": 23,
   "id": "9d28c64c",
   "metadata": {},
   "outputs": [],
   "source": [
    "# saving as title_chunks for code compatability\n",
    "for i in qac_json_list:\n",
    "    i[\"title_chunks\"] = corpus_title_chunks"
   ]
  },
  {
   "cell_type": "code",
   "execution_count": 24,
   "id": "bcd606a7",
   "metadata": {},
   "outputs": [
    {
     "data": {
      "text/plain": [
       "dict_keys(['question', 'answer', 'supports', 'title_chunks'])"
      ]
     },
     "execution_count": 24,
     "metadata": {},
     "output_type": "execute_result"
    }
   ],
   "source": [
    "qac_json_list[0].keys()"
   ]
  },
  {
   "cell_type": "markdown",
   "id": "7a3142b7",
   "metadata": {},
   "source": [
    "## Saving json file"
   ]
  },
  {
   "cell_type": "code",
   "execution_count": 25,
   "id": "717b2072",
   "metadata": {},
   "outputs": [],
   "source": [
    "with open('test_docs_2n.json','w') as f:\n",
    "    json.dump(qac_json_list,f)"
   ]
  },
  {
   "cell_type": "code",
   "execution_count": null,
   "id": "4305ba93",
   "metadata": {},
   "outputs": [],
   "source": []
  }
 ],
 "metadata": {
  "kernelspec": {
   "display_name": "Python 3 (ipykernel)",
   "language": "python",
   "name": "python3"
  },
  "language_info": {
   "codemirror_mode": {
    "name": "ipython",
    "version": 3
   },
   "file_extension": ".py",
   "mimetype": "text/x-python",
   "name": "python",
   "nbconvert_exporter": "python",
   "pygments_lexer": "ipython3",
   "version": "3.9.13"
  }
 },
 "nbformat": 4,
 "nbformat_minor": 5
}
